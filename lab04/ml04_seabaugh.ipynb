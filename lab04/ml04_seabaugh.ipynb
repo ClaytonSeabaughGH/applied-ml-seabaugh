{
 "cells": [
  {
   "cell_type": "markdown",
   "id": "1246d47c",
   "metadata": {},
   "source": [
    "# Clayton Seabaugh: Predicting a Continuous Target with Regression\n",
    "**Author:** Clayton Seabaugh  \n",
    "**Date:** 4-6-2025  \n",
    "**Objective:** Predict a continuous numeric target using a regression model. "
   ]
  },
  {
   "cell_type": "markdown",
   "id": "d1839b27",
   "metadata": {},
   "source": [
    "## Imports:"
   ]
  },
  {
   "cell_type": "code",
   "execution_count": 44,
   "id": "440746f3",
   "metadata": {},
   "outputs": [],
   "source": [
    "import seaborn as sns\n",
    "import pandas as pd\n",
    "import numpy as np\n",
    "import matplotlib.pyplot as plt\n",
    "\n",
    "from sklearn.model_selection import train_test_split\n",
    "from sklearn.linear_model import LinearRegression, Ridge, ElasticNet\n",
    "from sklearn.preprocessing import PolynomialFeatures\n",
    "from sklearn.metrics import root_mean_squared_error, mean_absolute_error, r2_score\n"
   ]
  },
  {
   "cell_type": "markdown",
   "id": "665efc84",
   "metadata": {},
   "source": [
    "## Section 1: Import and Inspect the Data\n",
    "Load the Titanic dataset and confirm it's structured correctly. "
   ]
  },
  {
   "cell_type": "code",
   "execution_count": 45,
   "id": "e374c197",
   "metadata": {},
   "outputs": [
    {
     "data": {
      "text/html": [
       "<div>\n",
       "<style scoped>\n",
       "    .dataframe tbody tr th:only-of-type {\n",
       "        vertical-align: middle;\n",
       "    }\n",
       "\n",
       "    .dataframe tbody tr th {\n",
       "        vertical-align: top;\n",
       "    }\n",
       "\n",
       "    .dataframe thead th {\n",
       "        text-align: right;\n",
       "    }\n",
       "</style>\n",
       "<table border=\"1\" class=\"dataframe\">\n",
       "  <thead>\n",
       "    <tr style=\"text-align: right;\">\n",
       "      <th></th>\n",
       "      <th>survived</th>\n",
       "      <th>pclass</th>\n",
       "      <th>sex</th>\n",
       "      <th>age</th>\n",
       "      <th>sibsp</th>\n",
       "      <th>parch</th>\n",
       "      <th>fare</th>\n",
       "      <th>embarked</th>\n",
       "      <th>class</th>\n",
       "      <th>who</th>\n",
       "      <th>adult_male</th>\n",
       "      <th>deck</th>\n",
       "      <th>embark_town</th>\n",
       "      <th>alive</th>\n",
       "      <th>alone</th>\n",
       "    </tr>\n",
       "  </thead>\n",
       "  <tbody>\n",
       "    <tr>\n",
       "      <th>0</th>\n",
       "      <td>0</td>\n",
       "      <td>3</td>\n",
       "      <td>male</td>\n",
       "      <td>22.0</td>\n",
       "      <td>1</td>\n",
       "      <td>0</td>\n",
       "      <td>7.2500</td>\n",
       "      <td>S</td>\n",
       "      <td>Third</td>\n",
       "      <td>man</td>\n",
       "      <td>True</td>\n",
       "      <td>NaN</td>\n",
       "      <td>Southampton</td>\n",
       "      <td>no</td>\n",
       "      <td>False</td>\n",
       "    </tr>\n",
       "    <tr>\n",
       "      <th>1</th>\n",
       "      <td>1</td>\n",
       "      <td>1</td>\n",
       "      <td>female</td>\n",
       "      <td>38.0</td>\n",
       "      <td>1</td>\n",
       "      <td>0</td>\n",
       "      <td>71.2833</td>\n",
       "      <td>C</td>\n",
       "      <td>First</td>\n",
       "      <td>woman</td>\n",
       "      <td>False</td>\n",
       "      <td>C</td>\n",
       "      <td>Cherbourg</td>\n",
       "      <td>yes</td>\n",
       "      <td>False</td>\n",
       "    </tr>\n",
       "    <tr>\n",
       "      <th>2</th>\n",
       "      <td>1</td>\n",
       "      <td>3</td>\n",
       "      <td>female</td>\n",
       "      <td>26.0</td>\n",
       "      <td>0</td>\n",
       "      <td>0</td>\n",
       "      <td>7.9250</td>\n",
       "      <td>S</td>\n",
       "      <td>Third</td>\n",
       "      <td>woman</td>\n",
       "      <td>False</td>\n",
       "      <td>NaN</td>\n",
       "      <td>Southampton</td>\n",
       "      <td>yes</td>\n",
       "      <td>True</td>\n",
       "    </tr>\n",
       "    <tr>\n",
       "      <th>3</th>\n",
       "      <td>1</td>\n",
       "      <td>1</td>\n",
       "      <td>female</td>\n",
       "      <td>35.0</td>\n",
       "      <td>1</td>\n",
       "      <td>0</td>\n",
       "      <td>53.1000</td>\n",
       "      <td>S</td>\n",
       "      <td>First</td>\n",
       "      <td>woman</td>\n",
       "      <td>False</td>\n",
       "      <td>C</td>\n",
       "      <td>Southampton</td>\n",
       "      <td>yes</td>\n",
       "      <td>False</td>\n",
       "    </tr>\n",
       "    <tr>\n",
       "      <th>4</th>\n",
       "      <td>0</td>\n",
       "      <td>3</td>\n",
       "      <td>male</td>\n",
       "      <td>35.0</td>\n",
       "      <td>0</td>\n",
       "      <td>0</td>\n",
       "      <td>8.0500</td>\n",
       "      <td>S</td>\n",
       "      <td>Third</td>\n",
       "      <td>man</td>\n",
       "      <td>True</td>\n",
       "      <td>NaN</td>\n",
       "      <td>Southampton</td>\n",
       "      <td>no</td>\n",
       "      <td>True</td>\n",
       "    </tr>\n",
       "  </tbody>\n",
       "</table>\n",
       "</div>"
      ],
      "text/plain": [
       "   survived  pclass     sex   age  sibsp  parch     fare embarked  class  \\\n",
       "0         0       3    male  22.0      1      0   7.2500        S  Third   \n",
       "1         1       1  female  38.0      1      0  71.2833        C  First   \n",
       "2         1       3  female  26.0      0      0   7.9250        S  Third   \n",
       "3         1       1  female  35.0      1      0  53.1000        S  First   \n",
       "4         0       3    male  35.0      0      0   8.0500        S  Third   \n",
       "\n",
       "     who  adult_male deck  embark_town alive  alone  \n",
       "0    man        True  NaN  Southampton    no  False  \n",
       "1  woman       False    C    Cherbourg   yes  False  \n",
       "2  woman       False  NaN  Southampton   yes   True  \n",
       "3  woman       False    C  Southampton   yes  False  \n",
       "4    man        True  NaN  Southampton    no   True  "
      ]
     },
     "execution_count": 45,
     "metadata": {},
     "output_type": "execute_result"
    }
   ],
   "source": [
    "# Load Titanic dataset from seaborn and verify\n",
    "titanic = sns.load_dataset(\"titanic\")\n",
    "titanic.head()"
   ]
  },
  {
   "cell_type": "markdown",
   "id": "b4394429",
   "metadata": {},
   "source": [
    "## Section 2: Data Exploration and Preparation\n",
    "Prepare the Titanic data for regression modeling"
   ]
  },
  {
   "cell_type": "code",
   "execution_count": 46,
   "id": "67317d4f",
   "metadata": {},
   "outputs": [
    {
     "name": "stderr",
     "output_type": "stream",
     "text": [
      "C:\\Users\\clayt\\AppData\\Local\\Temp\\ipykernel_7228\\3036118738.py:1: FutureWarning: A value is trying to be set on a copy of a DataFrame or Series through chained assignment using an inplace method.\n",
      "The behavior will change in pandas 3.0. This inplace method will never work because the intermediate object on which we are setting values always behaves as a copy.\n",
      "\n",
      "For example, when doing 'df[col].method(value, inplace=True)', try using 'df.method({col: value}, inplace=True)' or df[col] = df[col].method(value) instead, to perform the operation inplace on the original object.\n",
      "\n",
      "\n",
      "  titanic['age'].fillna(titanic['age'].median(), inplace=True)\n"
     ]
    }
   ],
   "source": [
    "titanic['age'].fillna(titanic['age'].median(), inplace=True)\n",
    "\n",
    "titanic = titanic.dropna(subset=['fare'])\n",
    "\n",
    "titanic['family_size'] = titanic['sibsp'] + titanic['parch'] + 1\n",
    "\n",
    "titanic['sex_encoded'] = titanic['sex'].map({'male': 1, 'female': 0})"
   ]
  },
  {
   "cell_type": "markdown",
   "id": "a1b1c6d4",
   "metadata": {},
   "source": [
    "## Section 3: Feature Selection and Justification\n",
    "Define multiple combinations of features to use as inputs to predict fare"
   ]
  },
  {
   "cell_type": "code",
   "execution_count": 47,
   "id": "abcb3135",
   "metadata": {},
   "outputs": [],
   "source": [
    "# Case 1. age\n",
    "X1 = titanic[['age']]\n",
    "y1 = titanic['fare']"
   ]
  },
  {
   "cell_type": "code",
   "execution_count": 48,
   "id": "932625b6",
   "metadata": {},
   "outputs": [],
   "source": [
    "# Case 2. family_size\n",
    "X2 = titanic[['family_size']]\n",
    "y2 = titanic['fare']"
   ]
  },
  {
   "cell_type": "code",
   "execution_count": 49,
   "id": "e989418f",
   "metadata": {},
   "outputs": [],
   "source": [
    "# Case 3. age, family_size\n",
    "X3 = titanic[['age', 'family_size']]\n",
    "y3 = titanic['fare']"
   ]
  },
  {
   "cell_type": "code",
   "execution_count": 50,
   "id": "602961ef",
   "metadata": {},
   "outputs": [],
   "source": [
    "# Case 4. sex (encoded in numerical format)\n",
    "X4 = titanic[['sex_encoded', 'age']]\n",
    "y4 = titanic['fare']"
   ]
  },
  {
   "cell_type": "markdown",
   "id": "c8b91fcb",
   "metadata": {},
   "source": [
    "### Reflection Questions Section 3\n",
    "\n",
    "- Why might these features affect a passenger’s fare: Age may affect fare cause it could be cheaper to buy tickets for kids, family's that are larger may require more rooms/beds so it may be more expensive. Perhaps rooms may be more expensive depending on what sex someone was.\n",
    "- List all available features: survived, pclass, sex, age, sibsp, parch, fare, embarked, class, who, adult_male, deck, embark_town, alive, alone\n",
    "- Which other features could improve predictions and why: Alone could improve predictions to get a better understanding of what one ticket may cost someone. embark_town could give us a good depiction on how fare prices ranged from place to place. \n",
    "- How many variables are in your Case 4: 3\n",
    "- Which variable(s) did you choose for Case 4 and why do you feel those could make good inputs: I wanted to see the correlation of sex and age and how that affected the fare prices. "
   ]
  },
  {
   "cell_type": "markdown",
   "id": "dbab3ddc",
   "metadata": {},
   "source": [
    "## Section 4: Train a Regression Model (Linear Regression)"
   ]
  },
  {
   "cell_type": "markdown",
   "id": "8d43853f",
   "metadata": {},
   "source": [
    "### 4.1: Split the data"
   ]
  },
  {
   "cell_type": "code",
   "execution_count": 51,
   "id": "cf41bc43",
   "metadata": {},
   "outputs": [],
   "source": [
    "# Case 1\n",
    "X1_train, X1_test, y1_train, y1_test = train_test_split(X1, y1, test_size=0.2, random_state=123)\n",
    "\n",
    "# Case 2\n",
    "X2_train, X2_test, y2_train, y2_test = train_test_split(X2, y2, test_size=0.2, random_state=123)\n",
    "\n",
    "# Case 3\n",
    "X3_train, X3_test, y3_train, y3_test = train_test_split(X3, y3, test_size=0.2, random_state=123)\n",
    "\n",
    "# Case 4\n",
    "X4_train, X4_test, y4_train, y4_test = train_test_split(X4, y4, test_size=0.2, random_state=123)"
   ]
  },
  {
   "cell_type": "markdown",
   "id": "ec96beb8",
   "metadata": {},
   "source": [
    "### 4.2: Train and Evaluate Linear Regression Models"
   ]
  },
  {
   "cell_type": "code",
   "execution_count": 52,
   "id": "c04f0b78",
   "metadata": {},
   "outputs": [],
   "source": [
    "lr_model1 = LinearRegression().fit(X1_train, y1_train)\n",
    "lr_model2 = LinearRegression().fit(X2_train, y2_train)\n",
    "lr_model3 = LinearRegression().fit(X3_train, y3_train)\n",
    "lr_model4 = LinearRegression().fit(X4_train, y4_train)\n",
    "\n",
    "# Predictions \n",
    "y1_pred_train= lr_model1.predict(X1_train)\n",
    "y1_pred_test = lr_model1.predict(X1_test)\n",
    "\n",
    "y2_pred_train = lr_model2.predict(X2_train)\n",
    "y2_pred_test = lr_model2.predict(X2_test)\n",
    "\n",
    "y3_pred_train = lr_model3.predict(X3_train)\n",
    "y3_pred_test = lr_model3.predict(X3_test)\n",
    "\n",
    "y4_pred_train = lr_model4.predict(X4_train)\n",
    "y4_pred_test = lr_model4.predict(X4_test)"
   ]
  },
  {
   "cell_type": "markdown",
   "id": "ff70ee18",
   "metadata": {},
   "source": [
    "### 4.3: Report performance"
   ]
  },
  {
   "cell_type": "code",
   "execution_count": 53,
   "id": "35418377",
   "metadata": {},
   "outputs": [
    {
     "name": "stdout",
     "output_type": "stream",
     "text": [
      "Case 1: Training R²: 0.009950688019452314\n",
      "Case 1: Test R²: 0.0034163395508415295\n",
      "Case 1: Test RMSE: 37.97164180172938\n",
      "Case 1: Test MAE: 25.28637293162364\n",
      "Case 2: Training R²: 0.049915792364760736\n",
      "Case 2: Test R²: 0.022231186110131973\n",
      "Case 2: Test RMSE: 37.6114940041967\n",
      "Case 2: Test MAE: 25.02534815941641\n",
      "Case 3: Training R²: 0.07347466201590014\n",
      "Case 3: Test R²: 0.049784832763073106\n",
      "Case 3: Test RMSE: 37.0777586646559\n",
      "Case 3: Test MAE: 24.284935030470688\n",
      "Case 4: Training R²: 0.037547330893100694\n",
      "Case 4: Test R²: 0.10264019100592159\n",
      "Case 4: Test RMSE: 36.031786989160544\n",
      "Case 4: Test MAE: 24.570912359192643\n"
     ]
    }
   ],
   "source": [
    "# Print Case 1 model results\n",
    "print(\"Case 1: Training R²:\", r2_score(y1_train, y1_pred_train))\n",
    "print(\"Case 1: Test R²:\", r2_score(y1_test, y1_pred_test))\n",
    "print(\"Case 1: Test RMSE:\", root_mean_squared_error(y1_test, y1_pred_test))\n",
    "print(\"Case 1: Test MAE:\", mean_absolute_error(y1_test, y1_pred_test))\n",
    "\n",
    "# Print Case 2 model results\n",
    "print(\"Case 2: Training R²:\", r2_score(y2_train, y2_pred_train))\n",
    "print(\"Case 2: Test R²:\", r2_score(y2_test, y2_pred_test))\n",
    "print(\"Case 2: Test RMSE:\", root_mean_squared_error(y2_test, y2_pred_test))\n",
    "print(\"Case 2: Test MAE:\", mean_absolute_error(y2_test, y2_pred_test))\n",
    "\n",
    "# Print Case 3 model results\n",
    "print(\"Case 3: Training R²:\", r2_score(y3_train, y3_pred_train))\n",
    "print(\"Case 3: Test R²:\", r2_score(y3_test, y3_pred_test))\n",
    "print(\"Case 3: Test RMSE:\", root_mean_squared_error(y3_test, y3_pred_test))\n",
    "print(\"Case 3: Test MAE:\", mean_absolute_error(y3_test, y3_pred_test))\n",
    "\n",
    "# Print Case 4 model results\n",
    "print(\"Case 4: Training R²:\", r2_score(y4_train, y4_pred_train))\n",
    "print(\"Case 4: Test R²:\", r2_score(y4_test, y4_pred_test))\n",
    "print(\"Case 4: Test RMSE:\", root_mean_squared_error(y4_test, y4_pred_test))\n",
    "print(\"Case 4: Test MAE:\", mean_absolute_error(y4_test, y4_pred_test))"
   ]
  },
  {
   "cell_type": "markdown",
   "id": "3ab142fe",
   "metadata": {},
   "source": [
    "## Section 4 Reflection Questions \n",
    "\n",
    "### Compare the train vs test results for each.\n",
    "- Did Case 1 overfit or underfit? Explain: Case 1 underfit because both of the  R2 values are near zero with a high RMSE and MAE.\n",
    "- Did Case 2 overfit or underfit? Explain: Case 2 was slightly better than case 1 but it still underfit. Model is too simple.\n",
    "- Did Case 3 overfit or underfit? Explain: Case 3 was still underfit but better than the last 2.\n",
    "- Did Case 4 overfit or underfit? Explain: Case 4 was the best generalization so far. Still low overall but the best out of the set with a higher Test R2 than training\n",
    "\n",
    "### Adding Age\n",
    "- Did adding age improve the model: Yes but slightly. \n",
    "- Propose a possible explanation (consider how age might affect ticket price, and whether the data supports that): Fare prices may be cheaper for seniors/kids but I do not believe the data fully fits that unless we were to predict with a better model. \n",
    "\n",
    "### Worst\n",
    "- Which case performed the worst: Case 1\n",
    "- How do you know: Had almost near zero R2 values\n",
    "- Do you think adding more training data would improve it (and why/why not): \n",
    "\n",
    "### Best\n",
    "- Which case performed the best: Case 4\n",
    "- How do you know: The R2 values were better, especially the test r2. \n",
    "- Do you think adding more training data would improve it (and why/why not): It would be able to learn deeper patterns and with a low overall R2 it is still only gather about 10% of the variance. More data could also reduce noise in patterns. The errors (RMSE and MAE) are still too high. "
   ]
  },
  {
   "cell_type": "markdown",
   "id": "b1e032da",
   "metadata": {},
   "source": [
    "### Section 5: Compare Alternative Models\n",
    "In this section, we will take the best-performing case and explore other regression models. "
   ]
  },
  {
   "cell_type": "markdown",
   "id": "e11d5675",
   "metadata": {},
   "source": [
    "### 5.1: Ridge Regression "
   ]
  },
  {
   "cell_type": "code",
   "execution_count": 54,
   "id": "418d0fd3",
   "metadata": {},
   "outputs": [],
   "source": [
    "ridge_model = Ridge(alpha=1.0)\n",
    "ridge_model.fit(X4_train, y4_train)\n",
    "y_pred_ridge = ridge_model.predict(X4_test)"
   ]
  },
  {
   "cell_type": "markdown",
   "id": "4e7c9105",
   "metadata": {},
   "source": [
    "### 5.2: Elastic Net"
   ]
  },
  {
   "cell_type": "code",
   "execution_count": 55,
   "id": "34807312",
   "metadata": {},
   "outputs": [],
   "source": [
    "elastic_model = ElasticNet(alpha=0.3, l1_ratio=0.5)\n",
    "elastic_model.fit(X4_train, y4_train)\n",
    "y_pred_elastic = elastic_model.predict(X4_test)"
   ]
  },
  {
   "cell_type": "markdown",
   "id": "c99d2e10",
   "metadata": {},
   "source": [
    "### 5.3: Polynomial Regression\n"
   ]
  },
  {
   "cell_type": "code",
   "execution_count": 56,
   "id": "ee02ea6e",
   "metadata": {},
   "outputs": [],
   "source": [
    "# Set up the poly inputs\n",
    "poly = PolynomialFeatures(degree=3)\n",
    "X_train_poly = poly.fit_transform(X4_train)\n",
    "X_test_poly = poly.transform(X4_test)"
   ]
  },
  {
   "cell_type": "code",
   "execution_count": 57,
   "id": "70acd908",
   "metadata": {},
   "outputs": [],
   "source": [
    "# Use the poly inputs in the LR model\n",
    "poly_model = LinearRegression()\n",
    "poly_model.fit(X_train_poly, y4_train)\n",
    "y_pred_poly = poly_model.predict(X_test_poly)"
   ]
  },
  {
   "cell_type": "markdown",
   "id": "407811af",
   "metadata": {},
   "source": [
    "### 5.4: Visualize Polynomial Cubic Fit"
   ]
  },
  {
   "cell_type": "code",
   "execution_count": 71,
   "id": "58d1ed59",
   "metadata": {},
   "outputs": [
    {
     "data": {
      "image/png": "[encoded data removed]",
      "text/plain": [
       "<Figure size 640x480 with 1 Axes>"
      ]
     },
     "metadata": {},
     "output_type": "display_data"
    },
    {
     "data": {
      "image/png": "[encoded data removed]",
      "text/plain": [
       "<Figure size 640x480 with 1 Axes>"
      ]
     },
     "metadata": {},
     "output_type": "display_data"
    }
   ],
   "source": [
    "plt.scatter(X4_test['age'], y4_test, color='blue', label='Actual')\n",
    "plt.scatter(X4_test['age'], y_pred_poly, color='red', label='Predicted (Poly)')\n",
    "plt.legend()\n",
    "plt.title(\"Polynomial Regression: Age vs Fare\")\n",
    "plt.show()\n",
    "\n",
    "plt.scatter(X4_test['sex_encoded'], y4_test, color='blue', label='Actual')\n",
    "plt.scatter(X4_test['sex_encoded'], y_pred_poly, color='red', label='Predicted (Poly)')\n",
    "plt.legend()\n",
    "plt.xlabel(\"Female=0    Male=1\")\n",
    "plt.title(\"Polynomial Regression: Sex vs Fare\")\n",
    "plt.show()"
   ]
  },
  {
   "cell_type": "markdown",
   "id": "2e818bde",
   "metadata": {},
   "source": [
    "### 5.4 Reflections\n",
    "\n",
    "- What patterns does the cubic model seem to capture:\n",
    "- Where does it perform well or poorly:\n",
    "- Did the polynomial fit outperform linear regression:\n",
    "- Where (on the graph or among which kinds of data points) does it fit best:"
   ]
  },
  {
   "cell_type": "code",
   "execution_count": null,
   "id": "cc567828",
   "metadata": {},
   "outputs": [],
   "source": []
  }
 ],
 "metadata": {
  "kernelspec": {
   "display_name": ".venv",
   "language": "python",
   "name": "python3"
  },
  "language_info": {
   "codemirror_mode": {
    "name": "ipython",
    "version": 3
   },
   "file_extension": ".py",
   "mimetype": "text/x-python",
   "name": "python",
   "nbconvert_exporter": "python",
   "pygments_lexer": "ipython3",
   "version": "3.12.5"
  }
 },
 "nbformat": 4,
 "nbformat_minor": 5
}
