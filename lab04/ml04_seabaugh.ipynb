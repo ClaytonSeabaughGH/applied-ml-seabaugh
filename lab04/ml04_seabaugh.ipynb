{
 "cells": [
  {
   "cell_type": "markdown",
   "id": "1246d47c",
   "metadata": {},
   "source": [
    "# Clayton Seabaugh: Predicting a Continuous Target with Regression\n",
    "**Author:** Clayton Seabaugh  \n",
    "**Date:** 4-6-2025  \n",
    "**Objective:** Predict a continuous numeric target using a regression model. "
   ]
  },
  {
   "cell_type": "markdown",
   "id": "d1839b27",
   "metadata": {},
   "source": [
    "### Imports:"
   ]
  },
  {
   "cell_type": "code",
   "execution_count": 1,
   "id": "440746f3",
   "metadata": {},
   "outputs": [],
   "source": [
    "import seaborn as sns\n",
    "import pandas as pd\n",
    "import numpy as np\n",
    "import matplotlib.pyplot as plt\n",
    "\n",
    "from sklearn.model_selection import train_test_split\n",
    "from sklearn.linear_model import LinearRegression, Ridge, ElasticNet\n",
    "from sklearn.preprocessing import PolynomialFeatures\n",
    "from sklearn.metrics import mean_squared_error, mean_absolute_error, r2_score"
   ]
  },
  {
   "cell_type": "markdown",
   "id": "665efc84",
   "metadata": {},
   "source": [
    "### Section 1: Import and Inspect the Data\n",
    "Load the Titanic dataset and confirm it's structured correctly. "
   ]
  },
  {
   "cell_type": "code",
   "execution_count": null,
   "id": "e374c197",
   "metadata": {},
   "outputs": [],
   "source": [
    "# Load Titanic dataset from seaborn and verify\n",
    "titanic = sns.load_dataset(\"titanic\")\n",
    "titanic.head()"
   ]
  },
  {
   "cell_type": "markdown",
   "id": "b4394429",
   "metadata": {},
   "source": []
  }
 ],
 "metadata": {
  "kernelspec": {
   "display_name": ".venv",
   "language": "python",
   "name": "python3"
  },
  "language_info": {
   "codemirror_mode": {
    "name": "ipython",
    "version": 3
   },
   "file_extension": ".py",
   "mimetype": "text/x-python",
   "name": "python",
   "nbconvert_exporter": "python",
   "pygments_lexer": "ipython3",
   "version": "3.12.5"
  }
 },
 "nbformat": 4,
 "nbformat_minor": 5
}
