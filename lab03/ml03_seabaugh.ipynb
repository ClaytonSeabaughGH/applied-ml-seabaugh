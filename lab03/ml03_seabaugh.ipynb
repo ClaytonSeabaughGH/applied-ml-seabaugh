{
 "cells": [
  {
   "cell_type": "markdown",
   "metadata": {},
   "source": [
    "# Clayton Seabaugh: Building a Classifier\n",
    "**Author:** Clayton Seabaugh  \n",
    "**Date:** 3-28-2025  \n",
    "**Objective:** Build and evaluate different models for machine learning classification"
   ]
  },
  {
   "cell_type": "markdown",
   "metadata": {},
   "source": [
    "## Section 1. Import and Inspect the Data\n",
    "Load the titanic dataset from the directly from the seaborn library."
   ]
  },
  {
   "cell_type": "code",
   "execution_count": 1,
   "metadata": {},
   "outputs": [],
   "source": [
    "# Imports\n",
    "\n",
    "import seaborn as sns\n",
    "import pandas as pd"
   ]
  },
  {
   "cell_type": "code",
   "execution_count": 2,
   "metadata": {},
   "outputs": [],
   "source": [
    "# Load Titanic dataset\n",
    "titanic = sns.load_dataset('titanic')"
   ]
  },
  {
   "cell_type": "markdown",
   "metadata": {},
   "source": [
    "## Section 2. Data Exploration and Preparation\n",
    " \n",
    "### 2.1 Handle Missing Values and Clean Data"
   ]
  },
  {
   "cell_type": "code",
   "execution_count": 10,
   "metadata": {},
   "outputs": [
    {
     "name": "stderr",
     "output_type": "stream",
     "text": [
      "C:\\Users\\clayt\\AppData\\Local\\Temp\\ipykernel_27452\\3070868880.py:2: FutureWarning: A value is trying to be set on a copy of a DataFrame or Series through chained assignment using an inplace method.\n",
      "The behavior will change in pandas 3.0. This inplace method will never work because the intermediate object on which we are setting values always behaves as a copy.\n",
      "\n",
      "For example, when doing 'df[col].method(value, inplace=True)', try using 'df.method({col: value}, inplace=True)' or df[col] = df[col].method(value) instead, to perform the operation inplace on the original object.\n",
      "\n",
      "\n",
      "  titanic['age'].fillna(titanic['age'].median(), inplace=True)\n"
     ]
    }
   ],
   "source": [
    "# Impute missing values for age using the median\n",
    "titanic['age'].fillna(titanic['age'].median(), inplace=True)\n",
    "\n",
    "# Fill in missing values for embark_town using the mode\n",
    "titanic['embark_town'].fillna(titanic['embark_town'].mode()[0], inplace=True)"
   ]
  },
  {
   "cell_type": "markdown",
   "metadata": {},
   "source": [
    "### 2.2 Feature Engineering\n"
   ]
  },
  {
   "cell_type": "code",
   "execution_count": 11,
   "metadata": {},
   "outputs": [],
   "source": [
    "# Create new features\n",
    "\n",
    "# Add family_size - number of family members on board\n",
    "titanic['family_size'] = titanic['sibsp'] + titanic['parch'] + 1\n",
    "# Convert categorical \"sex\" to numeric\n",
    "titanic['sex'] = titanic['sex'].map({'male': 0, 'female': 1})\n",
    "# Convert categorical \"embarked\" to numeric\n",
    "titanic['embarked'] = titanic['embarked'].map({'C': 0, 'Q': 1, 'S': 2})\n",
    "# Binary feature - convert \"alone\" to numeric\n",
    "titanic['alone'] = titanic['alone'].astype(int)"
   ]
  },
  {
   "cell_type": "markdown",
   "metadata": {},
   "source": [
    "## Section 3. Feature Selection and Justification\n",
    "### 3.1 Choose features and target"
   ]
  },
  {
   "cell_type": "markdown",
   "metadata": {},
   "source": [
    "Select two or more input features (numerical for regression, numerical and/or categorical for classification)\n",
    "<br> Use survived as the target. \n",
    "<br> We will do three input cases like the example.\n",
    "<br> First:\n",
    "\n",
    "- input features: alone\n",
    "target: survived\n",
    "Second:\n",
    "\n",
    "- input features - age (or another variable of your choice)\n",
    "target: survived\n",
    "Third:\n",
    "\n",
    "- input features -  age and family_size (or another combination of your choice)\n",
    "target: survived"
   ]
  },
  {
   "cell_type": "markdown",
   "metadata": {},
   "source": [
    "### 3.2 Define X (features) and y (target)\n",
    "- Assign input features to X a pandas DataFrame with 1 or more input features\n",
    "- Assign target variable to y (as applicable) - a pandas Series with a single target feature\n",
    "- Again - use comments to run a single case at a time\n",
    "- The follow starts with only the statements needed for case 1. \n",
    "- Double brackets [[ ]]]  makes a 2D DataFrame\n",
    "- Single brackets [ ]  make a 1D Series\n",
    " \n",
    "\n",
    "**# Case 1: alone only**\n",
    "- X = titanic[['alone']]\n",
    "- y = titanic['survived']\n",
    "\n",
    "**# Case 2: age only**\n",
    "- X = titanic[['age']]\n",
    "- y = titanic['survived']\n",
    "\n",
    "**# Case 3: age + family_size**\n",
    "- X = titanic[['age', 'family_size']]\n",
    "- y = titanic['survived']"
   ]
  },
  {
   "cell_type": "markdown",
   "metadata": {},
   "source": [
    "## Reflection 3:\n",
    "\n",
    "Why are these features selected?\n",
    "<br>Are there features that are likely to be highly predictive of survival?"
   ]
  },
  {
   "cell_type": "markdown",
   "metadata": {},
   "source": []
  }
 ],
 "metadata": {
  "kernelspec": {
   "display_name": ".venv",
   "language": "python",
   "name": "python3"
  },
  "language_info": {
   "codemirror_mode": {
    "name": "ipython",
    "version": 3
   },
   "file_extension": ".py",
   "mimetype": "text/x-python",
   "name": "python",
   "nbconvert_exporter": "python",
   "pygments_lexer": "ipython3",
   "version": "3.12.5"
  }
 },
 "nbformat": 4,
 "nbformat_minor": 2
}
